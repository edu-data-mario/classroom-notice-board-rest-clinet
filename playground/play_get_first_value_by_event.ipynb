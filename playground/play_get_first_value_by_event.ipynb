{
 "cells": [
  {
   "cell_type": "code",
   "execution_count": 17,
   "id": "initial_id",
   "metadata": {
    "collapsed": true,
    "ExecuteTime": {
     "end_time": "2023-08-30T00:21:11.696806Z",
     "start_time": "2023-08-30T00:21:11.693219Z"
    }
   },
   "outputs": [],
   "source": [
    "import requests\n",
    "import json\n",
    "\n",
    "# def get_first_event_from_url(url):\n",
    "#     response = requests.get(url)\n",
    "#     if response.status_code == 200:\n",
    "#         data = response.json()\n",
    "#         return data[0]\n",
    "#     else:\n",
    "#         raise Exception(f\"Failed to get event from {url}: {response.status_code}\")\n",
    "    \n",
    "# def get_first_event_from_url(url):\n",
    "#     response = requests.get(url, stream=True)\n",
    "#     if response.status_code == 200:\n",
    "#         for event in response.iter_content():\n",
    "#             data = json.loads(event)\n",
    "#             # 첫 번째 이벤트만 반환합니다.\n",
    "#             if len(data) == 0:\n",
    "#                 return None\n",
    "#             else:\n",
    "#                 return data[0]\n",
    "#     else:\n",
    "#         raise Exception(f\"Failed to get event from {url}: {response.status_code}\")\n",
    "    \n",
    "    \n",
    "def get_first_event_from_url(url):\n",
    "    response = requests.get(url, stream=True)\n",
    "    if response.status_code == 200:\n",
    "        for event in response.iter_content():\n",
    "            try:\n",
    "                data = json.loads(event)\n",
    "            except json.decoder.JSONDecodeError:\n",
    "                # 응답이 JSON 형식이 아닙니다.\n",
    "                print(\"The response is not JSON format.\")\n",
    "                return event\n",
    "            else:\n",
    "                # 첫 번째 이벤트만 반환합니다.\n",
    "                if len(data) == 0:\n",
    "                    return None\n",
    "                else:\n",
    "                    return data[0]\n",
    "    else:\n",
    "        raise Exception(f\"Failed to get event from {url}: {response.status_code}\")"
   ]
  },
  {
   "cell_type": "code",
   "execution_count": 18,
   "outputs": [
    {
     "name": "stdout",
     "output_type": "stream",
     "text": [
      "The response is not JSON format.\n"
     ]
    }
   ],
   "source": [
    "event = get_first_event_from_url(\"https://classmario.fly.dev/events\")"
   ],
   "metadata": {
    "collapsed": false,
    "ExecuteTime": {
     "end_time": "2023-08-30T00:21:14.667506Z",
     "start_time": "2023-08-30T00:21:14.244611Z"
    }
   },
   "id": "a613ef079754d12c"
  },
  {
   "cell_type": "code",
   "execution_count": 19,
   "outputs": [
    {
     "name": "stdout",
     "output_type": "stream",
     "text": [
      "b'd'\n"
     ]
    }
   ],
   "source": [
    "print(event)"
   ],
   "metadata": {
    "collapsed": false,
    "ExecuteTime": {
     "end_time": "2023-08-30T00:21:24.702476Z",
     "start_time": "2023-08-30T00:21:24.695155Z"
    }
   },
   "id": "d30c7902663da635"
  },
  {
   "cell_type": "code",
   "execution_count": 15,
   "outputs": [],
   "source": [
    "url = \"https://classmario.fly.dev/events\"\n",
    "response = requests.get(url, stream=True)"
   ],
   "metadata": {
    "collapsed": false,
    "ExecuteTime": {
     "end_time": "2023-08-30T00:14:24.782349Z",
     "start_time": "2023-08-30T00:14:24.376438Z"
    }
   },
   "id": "daf3df740de0bad1"
  },
  {
   "cell_type": "code",
   "execution_count": 16,
   "outputs": [
    {
     "name": "stdout",
     "output_type": "stream",
     "text": [
      "<Response [200]>\n"
     ]
    }
   ],
   "source": [
    "print(response)"
   ],
   "metadata": {
    "collapsed": false,
    "ExecuteTime": {
     "end_time": "2023-08-30T00:14:35.526012Z",
     "start_time": "2023-08-30T00:14:35.520136Z"
    }
   },
   "id": "2b9b3dd31d5eb855"
  },
  {
   "cell_type": "code",
   "execution_count": 21,
   "outputs": [
    {
     "name": "stdout",
     "output_type": "stream",
     "text": [
      "{\"current\":70,\"last\":0,\"id\":\"valuation\",\"updatedAt\":1693355188542}\n",
      "{\"current\":45542,\"last\":137209,\"id\":\"karma\",\"updatedAt\":1693355188542}\n",
      "{\"value\":97,\"id\":\"synergy\",\"updatedAt\":1693355188542}\n",
      "{\"points\":[{\"x\":86100,\"y\":18},{\"x\":86101,\"y\":16},{\"x\":86102,\"y\":40},{\"x\":86103,\"y\":28},{\"x\":86104,\"y\":49},{\"x\":86105,\"y\":10},{\"x\":86106,\"y\":8},{\"x\":86107,\"y\":35},{\"x\":86108,\"y\":12},{\"x\":86109,\"y\":5}],\"id\":\"convergence\",\"updatedAt\":1693355188542}\n",
      "{\"items\":[{\"label\":\"Synergy\",\"value\":13},{\"label\":\"Enterprise\",\"value\":6},{\"label\":\"Exit strategy\",\"value\":20},{\"label\":\"Turn-key\",\"value\":13},{\"label\":\"Web 2.0\",\"value\":9},{\"label\":\"Paradigm shift\",\"value\":3},{\"label\":\"Streamlininess\",\"value\":6},{\"label\":\"Pivoting\",\"value\":10},{\"label\":\"Leverage\",\"value\":9}],\"id\":\"buzzwords\",\"updatedAt\":1693355188542}\n",
      "{\"text\":\"Stay hungry, stay foolish\",\"id\":\"poster\",\"updatedAt\":1693206390692}\n",
      "{\"items\":[{\"label\":\"item1\",\"value\":\"Test1\"},{\"label\":\"item2\",\"value\":\"Test2\"}],\"id\":\"oneTeam\",\"updatedAt\":1693199613555}\n",
      "{\"current\":81,\"last\":70,\"id\":\"valuation\",\"updatedAt\":1693355190646}\n",
      "{\"current\":55210,\"last\":45542,\"id\":\"karma\",\"updatedAt\":1693355190646}\n",
      "{\"value\":31,\"id\":\"synergy\",\"updatedAt\":1693355190646}\n",
      "{\"points\":[{\"x\":86101,\"y\":16},{\"x\":86102,\"y\":40},{\"x\":86103,\"y\":28},{\"x\":86104,\"y\":49},{\"x\":86105,\"y\":10},{\"x\":86106,\"y\":8},{\"x\":86107,\"y\":35},{\"x\":86108,\"y\":12},{\"x\":86109,\"y\":5},{\"x\":86110,\"y\":36}],\"id\":\"convergence\",\"updatedAt\":1693355190646}\n",
      "{\"items\":[{\"label\":\"Synergy\",\"value\":13},{\"label\":\"Enterprise\",\"value\":7},{\"label\":\"Exit strategy\",\"value\":20},{\"label\":\"Turn-key\",\"value\":13},{\"label\":\"Web 2.0\",\"value\":9},{\"label\":\"Paradigm shift\",\"value\":3},{\"label\":\"Streamlininess\",\"value\":6},{\"label\":\"Pivoting\",\"value\":10},{\"label\":\"Leverage\",\"value\":9}],\"id\":\"buzzwords\",\"updatedAt\":1693355190646}\n",
      "{\"current\":21,\"last\":81,\"id\":\"valuation\",\"updatedAt\":1693355192751}\n",
      "{\"current\":150922,\"last\":55210,\"id\":\"karma\",\"updatedAt\":1693355192751}\n",
      "{\"value\":64,\"id\":\"synergy\",\"updatedAt\":1693355192751}\n",
      "{\"points\":[{\"x\":86102,\"y\":40},{\"x\":86103,\"y\":28},{\"x\":86104,\"y\":49},{\"x\":86105,\"y\":10},{\"x\":86106,\"y\":8},{\"x\":86107,\"y\":35},{\"x\":86108,\"y\":12},{\"x\":86109,\"y\":5},{\"x\":86110,\"y\":36},{\"x\":86111,\"y\":3}],\"id\":\"convergence\",\"updatedAt\":1693355192751}\n",
      "{\"items\":[{\"label\":\"Synergy\",\"value\":13},{\"label\":\"Enterprise\",\"value\":8},{\"label\":\"Exit strategy\",\"value\":20},{\"label\":\"Turn-key\",\"value\":13},{\"label\":\"Web 2.0\",\"value\":9},{\"label\":\"Paradigm shift\",\"value\":3},{\"label\":\"Streamlininess\",\"value\":6},{\"label\":\"Pivoting\",\"value\":10},{\"label\":\"Leverage\",\"value\":9}],\"id\":\"buzzwords\",\"updatedAt\":1693355192751}\n",
      "{\"current\":42,\"last\":21,\"id\":\"valuation\",\"updatedAt\":1693355194560}\n",
      "{\"current\":151755,\"last\":150922,\"id\":\"karma\",\"updatedAt\":1693355194560}\n",
      "{\"value\":7,\"id\":\"synergy\",\"updatedAt\":1693355194560}\n",
      "{\"points\":[{\"x\":86103,\"y\":28},{\"x\":86104,\"y\":49},{\"x\":86105,\"y\":10},{\"x\":86106,\"y\":8},{\"x\":86107,\"y\":35},{\"x\":86108,\"y\":12},{\"x\":86109,\"y\":5},{\"x\":86110,\"y\":36},{\"x\":86111,\"y\":3},{\"x\":86112,\"y\":2}],\"id\":\"convergence\",\"updatedAt\":1693355194560}\n",
      "{\"items\":[{\"label\":\"Synergy\",\"value\":13},{\"label\":\"Enterprise\",\"value\":8},{\"label\":\"Exit strategy\",\"value\":20},{\"label\":\"Turn-key\",\"value\":13},{\"label\":\"Web 2.0\",\"value\":9},{\"label\":\"Paradigm shift\",\"value\":3},{\"label\":\"Streamlininess\",\"value\":6},{\"label\":\"Pivoting\",\"value\":11},{\"label\":\"Leverage\",\"value\":9}],\"id\":\"buzzwords\",\"updatedAt\":1693355194560}\n",
      "{\"current\":50,\"last\":42,\"id\":\"valuation\",\"updatedAt\":1693355196664}\n",
      "{\"current\":58598,\"last\":151755,\"id\":\"karma\",\"updatedAt\":1693355196664}\n",
      "{\"value\":48,\"id\":\"synergy\",\"updatedAt\":1693355196664}\n",
      "{\"points\":[{\"x\":86104,\"y\":49},{\"x\":86105,\"y\":10},{\"x\":86106,\"y\":8},{\"x\":86107,\"y\":35},{\"x\":86108,\"y\":12},{\"x\":86109,\"y\":5},{\"x\":86110,\"y\":36},{\"x\":86111,\"y\":3},{\"x\":86112,\"y\":2},{\"x\":86113,\"y\":9}],\"id\":\"convergence\",\"updatedAt\":1693355196664}\n",
      "{\"items\":[{\"label\":\"Synergy\",\"value\":13},{\"label\":\"Enterprise\",\"value\":8},{\"label\":\"Exit strategy\",\"value\":20},{\"label\":\"Turn-key\",\"value\":13},{\"label\":\"Web 2.0\",\"value\":9},{\"label\":\"Paradigm shift\",\"value\":3},{\"label\":\"Streamlininess\",\"value\":6},{\"label\":\"Pivoting\",\"value\":11},{\"label\":\"Leverage\",\"value\":10}],\"id\":\"buzzwords\",\"updatedAt\":1693355196664}\n",
      "{\"current\":34,\"last\":50,\"id\":\"valuation\",\"updatedAt\":1693355198468}\n",
      "{\"current\":59566,\"last\":58598,\"id\":\"karma\",\"updatedAt\":1693355198468}\n",
      "{\"value\":25,\"id\":\"synergy\",\"updatedAt\":1693355198468}\n",
      "{\"points\":[{\"x\":86105,\"y\":10},{\"x\":86106,\"y\":8},{\"x\":86107,\"y\":35},{\"x\":86108,\"y\":12},{\"x\":86109,\"y\":5},{\"x\":86110,\"y\":36},{\"x\":86111,\"y\":3},{\"x\":86112,\"y\":2},{\"x\":86113,\"y\":9},{\"x\":86114,\"y\":5}],\"id\":\"convergence\",\"updatedAt\":1693355198468}\n",
      "{\"items\":[{\"label\":\"Synergy\",\"value\":13},{\"label\":\"Enterprise\",\"value\":8},{\"label\":\"Exit strategy\",\"value\":20},{\"label\":\"Turn-key\",\"value\":13},{\"label\":\"Web 2.0\",\"value\":9},{\"label\":\"Paradigm shift\",\"value\":3},{\"label\":\"Streamlininess\",\"value\":6},{\"label\":\"Pivoting\",\"value\":11},{\"label\":\"Leverage\",\"value\":11}],\"id\":\"buzzwords\",\"updatedAt\":1693355198468}\n",
      "{\"current\":14,\"last\":34,\"id\":\"valuation\",\"updatedAt\":1693355200577}\n",
      "{\"current\":142748,\"last\":59566,\"id\":\"karma\",\"updatedAt\":1693355200577}\n",
      "{\"value\":87,\"id\":\"synergy\",\"updatedAt\":1693355200577}\n",
      "{\"points\":[{\"x\":86106,\"y\":8},{\"x\":86107,\"y\":35},{\"x\":86108,\"y\":12},{\"x\":86109,\"y\":5},{\"x\":86110,\"y\":36},{\"x\":86111,\"y\":3},{\"x\":86112,\"y\":2},{\"x\":86113,\"y\":9},{\"x\":86114,\"y\":5},{\"x\":86115,\"y\":19}],\"id\":\"convergence\",\"updatedAt\":1693355200577}\n",
      "{\"items\":[{\"label\":\"Synergy\",\"value\":13},{\"label\":\"Enterprise\",\"value\":8},{\"label\":\"Exit strategy\",\"value\":20},{\"label\":\"Turn-key\",\"value\":14},{\"label\":\"Web 2.0\",\"value\":9},{\"label\":\"Paradigm shift\",\"value\":3},{\"label\":\"Streamlininess\",\"value\":6},{\"label\":\"Pivoting\",\"value\":11},{\"label\":\"Leverage\",\"value\":11}],\"id\":\"buzzwords\",\"updatedAt\":1693355200577}\n",
      "{\"current\":33,\"last\":14,\"id\":\"valuation\",\"updatedAt\":1693355202681}\n",
      "{\"current\":9337,\"last\":142748,\"id\":\"karma\",\"updatedAt\":1693355202681}\n",
      "{\"value\":81,\"id\":\"synergy\",\"updatedAt\":1693355202681}\n",
      "{\"points\":[{\"x\":86107,\"y\":35},{\"x\":86108,\"y\":12},{\"x\":86109,\"y\":5},{\"x\":86110,\"y\":36},{\"x\":86111,\"y\":3},{\"x\":86112,\"y\":2},{\"x\":86113,\"y\":9},{\"x\":86114,\"y\":5},{\"x\":86115,\"y\":19},{\"x\":86116,\"y\":47}],\"id\":\"convergence\",\"updatedAt\":1693355202681}\n",
      "{\"items\":[{\"label\":\"Synergy\",\"value\":13},{\"label\":\"Enterprise\",\"value\":9},{\"label\":\"Exit strategy\",\"value\":20},{\"label\":\"Turn-key\",\"value\":14},{\"label\":\"Web 2.0\",\"value\":9},{\"label\":\"Paradigm shift\",\"value\":3},{\"label\":\"Streamlininess\",\"value\":6},{\"label\":\"Pivoting\",\"value\":11},{\"label\":\"Leverage\",\"value\":11}],\"id\":\"buzzwords\",\"updatedAt\":1693355202681}\n",
      "{\"current\":9,\"last\":33,\"id\":\"valuation\",\"updatedAt\":1693355204490}\n",
      "{\"current\":110023,\"last\":9337,\"id\":\"karma\",\"updatedAt\":1693355204490}\n",
      "{\"value\":48,\"id\":\"synergy\",\"updatedAt\":1693355204491}\n",
      "{\"points\":[{\"x\":86108,\"y\":12},{\"x\":86109,\"y\":5},{\"x\":86110,\"y\":36},{\"x\":86111,\"y\":3},{\"x\":86112,\"y\":2},{\"x\":86113,\"y\":9},{\"x\":86114,\"y\":5},{\"x\":86115,\"y\":19},{\"x\":86116,\"y\":47},{\"x\":86117,\"y\":4}],\"id\":\"convergence\",\"updatedAt\":1693355204491}\n",
      "{\"items\":[{\"label\":\"Synergy\",\"value\":13},{\"label\":\"Enterprise\",\"value\":10},{\"label\":\"Exit strategy\",\"value\":20},{\"label\":\"Turn-key\",\"value\":14},{\"label\":\"Web 2.0\",\"value\":9},{\"label\":\"Paradigm shift\",\"value\":3},{\"label\":\"Streamlininess\",\"value\":6},{\"label\":\"Pivoting\",\"value\":11},{\"label\":\"Leverage\",\"value\":11}],\"id\":\"buzzwords\",\"updatedAt\":1693355204491}\n",
      "{\"current\":26,\"last\":9,\"id\":\"valuation\",\"updatedAt\":1693355206594}\n",
      "{\"current\":106433,\"last\":110023,\"id\":\"karma\",\"updatedAt\":1693355206594}\n",
      "{\"value\":70,\"id\":\"synergy\",\"updatedAt\":1693355206594}\n",
      "{\"points\":[{\"x\":86109,\"y\":5},{\"x\":86110,\"y\":36},{\"x\":86111,\"y\":3},{\"x\":86112,\"y\":2},{\"x\":86113,\"y\":9},{\"x\":86114,\"y\":5},{\"x\":86115,\"y\":19},{\"x\":86116,\"y\":47},{\"x\":86117,\"y\":4},{\"x\":86118,\"y\":22}],\"id\":\"convergence\",\"updatedAt\":1693355206595}\n",
      "{\"items\":[{\"label\":\"Synergy\",\"value\":13},{\"label\":\"Enterprise\",\"value\":10},{\"label\":\"Exit strategy\",\"value\":20},{\"label\":\"Turn-key\",\"value\":14},{\"label\":\"Web 2.0\",\"value\":9},{\"label\":\"Paradigm shift\",\"value\":3},{\"label\":\"Streamlininess\",\"value\":6},{\"label\":\"Pivoting\",\"value\":12},{\"label\":\"Leverage\",\"value\":11}],\"id\":\"buzzwords\",\"updatedAt\":1693355206595}\n",
      "{\"current\":63,\"last\":26,\"id\":\"valuation\",\"updatedAt\":1693355208699}\n",
      "{\"current\":161637,\"last\":106433,\"id\":\"karma\",\"updatedAt\":1693355208699}\n",
      "{\"value\":55,\"id\":\"synergy\",\"updatedAt\":1693355208699}\n",
      "{\"points\":[{\"x\":86110,\"y\":36},{\"x\":86111,\"y\":3},{\"x\":86112,\"y\":2},{\"x\":86113,\"y\":9},{\"x\":86114,\"y\":5},{\"x\":86115,\"y\":19},{\"x\":86116,\"y\":47},{\"x\":86117,\"y\":4},{\"x\":86118,\"y\":22},{\"x\":86119,\"y\":35}],\"id\":\"convergence\",\"updatedAt\":1693355208699}\n",
      "{\"items\":[{\"label\":\"Synergy\",\"value\":13},{\"label\":\"Enterprise\",\"value\":10},{\"label\":\"Exit strategy\",\"value\":20},{\"label\":\"Turn-key\",\"value\":14},{\"label\":\"Web 2.0\",\"value\":10},{\"label\":\"Paradigm shift\",\"value\":3},{\"label\":\"Streamlininess\",\"value\":6},{\"label\":\"Pivoting\",\"value\":12},{\"label\":\"Leverage\",\"value\":11}],\"id\":\"buzzwords\",\"updatedAt\":1693355208699}\n",
      "{\"current\":21,\"last\":63,\"id\":\"valuation\",\"updatedAt\":1693355210508}\n",
      "{\"current\":155845,\"last\":161637,\"id\":\"karma\",\"updatedAt\":1693355210509}\n",
      "{\"value\":60,\"id\":\"synergy\",\"updatedAt\":1693355210509}\n",
      "{\"points\":[{\"x\":86111,\"y\":3},{\"x\":86112,\"y\":2},{\"x\":86113,\"y\":9},{\"x\":86114,\"y\":5},{\"x\":86115,\"y\":19},{\"x\":86116,\"y\":47},{\"x\":86117,\"y\":4},{\"x\":86118,\"y\":22},{\"x\":86119,\"y\":35},{\"x\":86120,\"y\":17}],\"id\":\"convergence\",\"updatedAt\":1693355210509}\n",
      "{\"items\":[{\"label\":\"Synergy\",\"value\":13},{\"label\":\"Enterprise\",\"value\":10},{\"label\":\"Exit strategy\",\"value\":20},{\"label\":\"Turn-key\",\"value\":14},{\"label\":\"Web 2.0\",\"value\":10},{\"label\":\"Paradigm shift\",\"value\":3},{\"label\":\"Streamlininess\",\"value\":7},{\"label\":\"Pivoting\",\"value\":12},{\"label\":\"Leverage\",\"value\":11}],\"id\":\"buzzwords\",\"updatedAt\":1693355210509}\n",
      "{\"current\":57,\"last\":21,\"id\":\"valuation\",\"updatedAt\":1693355212613}\n",
      "{\"current\":165302,\"last\":155845,\"id\":\"karma\",\"updatedAt\":1693355212613}\n",
      "{\"value\":1,\"id\":\"synergy\",\"updatedAt\":1693355212613}\n",
      "{\"points\":[{\"x\":86112,\"y\":2},{\"x\":86113,\"y\":9},{\"x\":86114,\"y\":5},{\"x\":86115,\"y\":19},{\"x\":86116,\"y\":47},{\"x\":86117,\"y\":4},{\"x\":86118,\"y\":22},{\"x\":86119,\"y\":35},{\"x\":86120,\"y\":17},{\"x\":86121,\"y\":3}],\"id\":\"convergence\",\"updatedAt\":1693355212613}\n",
      "{\"items\":[{\"label\":\"Synergy\",\"value\":13},{\"label\":\"Enterprise\",\"value\":10},{\"label\":\"Exit strategy\",\"value\":20},{\"label\":\"Turn-key\",\"value\":15},{\"label\":\"Web 2.0\",\"value\":10},{\"label\":\"Paradigm shift\",\"value\":3},{\"label\":\"Streamlininess\",\"value\":7},{\"label\":\"Pivoting\",\"value\":12},{\"label\":\"Leverage\",\"value\":11}],\"id\":\"buzzwords\",\"updatedAt\":1693355212613}\n",
      "{\"current\":4,\"last\":57,\"id\":\"valuation\",\"updatedAt\":1693355214717}\n",
      "{\"current\":23886,\"last\":165302,\"id\":\"karma\",\"updatedAt\":1693355214717}\n",
      "{\"value\":10,\"id\":\"synergy\",\"updatedAt\":1693355214717}\n",
      "{\"points\":[{\"x\":86113,\"y\":9},{\"x\":86114,\"y\":5},{\"x\":86115,\"y\":19},{\"x\":86116,\"y\":47},{\"x\":86117,\"y\":4},{\"x\":86118,\"y\":22},{\"x\":86119,\"y\":35},{\"x\":86120,\"y\":17},{\"x\":86121,\"y\":3},{\"x\":86122,\"y\":38}],\"id\":\"convergence\",\"updatedAt\":1693355214717}\n",
      "{\"items\":[{\"label\":\"Synergy\",\"value\":13},{\"label\":\"Enterprise\",\"value\":10},{\"label\":\"Exit strategy\",\"value\":20},{\"label\":\"Turn-key\",\"value\":15},{\"label\":\"Web 2.0\",\"value\":10},{\"label\":\"Paradigm shift\",\"value\":3},{\"label\":\"Streamlininess\",\"value\":8},{\"label\":\"Pivoting\",\"value\":12},{\"label\":\"Leverage\",\"value\":11}],\"id\":\"buzzwords\",\"updatedAt\":1693355214717}\n",
      "{\"current\":92,\"last\":4,\"id\":\"valuation\",\"updatedAt\":1693355216520}\n",
      "{\"current\":125608,\"last\":23886,\"id\":\"karma\",\"updatedAt\":1693355216520}\n",
      "{\"value\":61,\"id\":\"synergy\",\"updatedAt\":1693355216520}\n",
      "{\"points\":[{\"x\":86114,\"y\":5},{\"x\":86115,\"y\":19},{\"x\":86116,\"y\":47},{\"x\":86117,\"y\":4},{\"x\":86118,\"y\":22},{\"x\":86119,\"y\":35},{\"x\":86120,\"y\":17},{\"x\":86121,\"y\":3},{\"x\":86122,\"y\":38},{\"x\":86123,\"y\":45}],\"id\":\"convergence\",\"updatedAt\":1693355216521}\n",
      "{\"items\":[{\"label\":\"Synergy\",\"value\":13},{\"label\":\"Enterprise\",\"value\":10},{\"label\":\"Exit strategy\",\"value\":20},{\"label\":\"Turn-key\",\"value\":15},{\"label\":\"Web 2.0\",\"value\":10},{\"label\":\"Paradigm shift\",\"value\":4},{\"label\":\"Streamlininess\",\"value\":8},{\"label\":\"Pivoting\",\"value\":12},{\"label\":\"Leverage\",\"value\":11}],\"id\":\"buzzwords\",\"updatedAt\":1693355216521}\n",
      "{\"current\":17,\"last\":92,\"id\":\"valuation\",\"updatedAt\":1693355218624}\n",
      "{\"current\":75382,\"last\":125608,\"id\":\"karma\",\"updatedAt\":1693355218625}\n",
      "{\"value\":17,\"id\":\"synergy\",\"updatedAt\":1693355218625}\n",
      "{\"points\":[{\"x\":86115,\"y\":19},{\"x\":86116,\"y\":47},{\"x\":86117,\"y\":4},{\"x\":86118,\"y\":22},{\"x\":86119,\"y\":35},{\"x\":86120,\"y\":17},{\"x\":86121,\"y\":3},{\"x\":86122,\"y\":38},{\"x\":86123,\"y\":45},{\"x\":86124,\"y\":36}],\"id\":\"convergence\",\"updatedAt\":1693355218625}\n",
      "{\"items\":[{\"label\":\"Synergy\",\"value\":13},{\"label\":\"Enterprise\",\"value\":10},{\"label\":\"Exit strategy\",\"value\":20},{\"label\":\"Turn-key\",\"value\":15},{\"label\":\"Web 2.0\",\"value\":11},{\"label\":\"Paradigm shift\",\"value\":4},{\"label\":\"Streamlininess\",\"value\":8},{\"label\":\"Pivoting\",\"value\":12},{\"label\":\"Leverage\",\"value\":11}],\"id\":\"buzzwords\",\"updatedAt\":1693355218625}\n",
      "{\"current\":95,\"last\":17,\"id\":\"valuation\",\"updatedAt\":1693355220729}\n",
      "{\"current\":160713,\"last\":75382,\"id\":\"karma\",\"updatedAt\":1693355220729}\n",
      "{\"value\":35,\"id\":\"synergy\",\"updatedAt\":1693355220729}\n",
      "{\"points\":[{\"x\":86116,\"y\":47},{\"x\":86117,\"y\":4},{\"x\":86118,\"y\":22},{\"x\":86119,\"y\":35},{\"x\":86120,\"y\":17},{\"x\":86121,\"y\":3},{\"x\":86122,\"y\":38},{\"x\":86123,\"y\":45},{\"x\":86124,\"y\":36},{\"x\":86125,\"y\":11}],\"id\":\"convergence\",\"updatedAt\":1693355220729}\n",
      "{\"items\":[{\"label\":\"Synergy\",\"value\":13},{\"label\":\"Enterprise\",\"value\":10},{\"label\":\"Exit strategy\",\"value\":20},{\"label\":\"Turn-key\",\"value\":15},{\"label\":\"Web 2.0\",\"value\":11},{\"label\":\"Paradigm shift\",\"value\":4},{\"label\":\"Streamlininess\",\"value\":9},{\"label\":\"Pivoting\",\"value\":12},{\"label\":\"Leverage\",\"value\":11}],\"id\":\"buzzwords\",\"updatedAt\":1693355220729}\n",
      "{\"current\":22,\"last\":95,\"id\":\"valuation\",\"updatedAt\":1693355222532}\n",
      "{\"current\":112772,\"last\":160713,\"id\":\"karma\",\"updatedAt\":1693355222532}\n",
      "{\"value\":34,\"id\":\"synergy\",\"updatedAt\":1693355222532}\n",
      "{\"points\":[{\"x\":86117,\"y\":4},{\"x\":86118,\"y\":22},{\"x\":86119,\"y\":35},{\"x\":86120,\"y\":17},{\"x\":86121,\"y\":3},{\"x\":86122,\"y\":38},{\"x\":86123,\"y\":45},{\"x\":86124,\"y\":36},{\"x\":86125,\"y\":11},{\"x\":86126,\"y\":17}],\"id\":\"convergence\",\"updatedAt\":1693355222532}\n",
      "{\"items\":[{\"label\":\"Synergy\",\"value\":13},{\"label\":\"Enterprise\",\"value\":10},{\"label\":\"Exit strategy\",\"value\":21},{\"label\":\"Turn-key\",\"value\":15},{\"label\":\"Web 2.0\",\"value\":11},{\"label\":\"Paradigm shift\",\"value\":4},{\"label\":\"Streamlininess\",\"value\":9},{\"label\":\"Pivoting\",\"value\":12},{\"label\":\"Leverage\",\"value\":11}],\"id\":\"buzzwords\",\"updatedAt\":1693355222533}\n",
      "{\"current\":43,\"last\":22,\"id\":\"valuation\",\"updatedAt\":1693355224637}\n",
      "{\"current\":181683,\"last\":112772,\"id\":\"karma\",\"updatedAt\":1693355224637}\n",
      "{\"value\":42,\"id\":\"synergy\",\"updatedAt\":1693355224637}\n",
      "{\"points\":[{\"x\":86118,\"y\":22},{\"x\":86119,\"y\":35},{\"x\":86120,\"y\":17},{\"x\":86121,\"y\":3},{\"x\":86122,\"y\":38},{\"x\":86123,\"y\":45},{\"x\":86124,\"y\":36},{\"x\":86125,\"y\":11},{\"x\":86126,\"y\":17},{\"x\":86127,\"y\":43}],\"id\":\"convergence\",\"updatedAt\":1693355224637}\n",
      "{\"items\":[{\"label\":\"Synergy\",\"value\":13},{\"label\":\"Enterprise\",\"value\":10},{\"label\":\"Exit strategy\",\"value\":21},{\"label\":\"Turn-key\",\"value\":15},{\"label\":\"Web 2.0\",\"value\":11},{\"label\":\"Paradigm shift\",\"value\":4},{\"label\":\"Streamlininess\",\"value\":10},{\"label\":\"Pivoting\",\"value\":12},{\"label\":\"Leverage\",\"value\":11}],\"id\":\"buzzwords\",\"updatedAt\":1693355224637}\n",
      "{\"current\":92,\"last\":43,\"id\":\"valuation\",\"updatedAt\":1693355226742}\n",
      "{\"current\":183931,\"last\":181683,\"id\":\"karma\",\"updatedAt\":1693355226742}\n",
      "{\"value\":5,\"id\":\"synergy\",\"updatedAt\":1693355226742}\n",
      "{\"points\":[{\"x\":86119,\"y\":35},{\"x\":86120,\"y\":17},{\"x\":86121,\"y\":3},{\"x\":86122,\"y\":38},{\"x\":86123,\"y\":45},{\"x\":86124,\"y\":36},{\"x\":86125,\"y\":11},{\"x\":86126,\"y\":17},{\"x\":86127,\"y\":43},{\"x\":86128,\"y\":23}],\"id\":\"convergence\",\"updatedAt\":1693355226742}\n",
      "{\"items\":[{\"label\":\"Synergy\",\"value\":13},{\"label\":\"Enterprise\",\"value\":11},{\"label\":\"Exit strategy\",\"value\":21},{\"label\":\"Turn-key\",\"value\":15},{\"label\":\"Web 2.0\",\"value\":11},{\"label\":\"Paradigm shift\",\"value\":4},{\"label\":\"Streamlininess\",\"value\":10},{\"label\":\"Pivoting\",\"value\":12},{\"label\":\"Leverage\",\"value\":11}],\"id\":\"buzzwords\",\"updatedAt\":1693355226742}\n",
      "{\"current\":69,\"last\":92,\"id\":\"valuation\",\"updatedAt\":1693355228546}\n",
      "{\"current\":22027,\"last\":183931,\"id\":\"karma\",\"updatedAt\":1693355228546}\n",
      "{\"value\":56,\"id\":\"synergy\",\"updatedAt\":1693355228546}\n",
      "{\"points\":[{\"x\":86120,\"y\":17},{\"x\":86121,\"y\":3},{\"x\":86122,\"y\":38},{\"x\":86123,\"y\":45},{\"x\":86124,\"y\":36},{\"x\":86125,\"y\":11},{\"x\":86126,\"y\":17},{\"x\":86127,\"y\":43},{\"x\":86128,\"y\":23},{\"x\":86129,\"y\":13}],\"id\":\"convergence\",\"updatedAt\":1693355228546}\n",
      "{\"items\":[{\"label\":\"Synergy\",\"value\":13},{\"label\":\"Enterprise\",\"value\":11},{\"label\":\"Exit strategy\",\"value\":22},{\"label\":\"Turn-key\",\"value\":15},{\"label\":\"Web 2.0\",\"value\":11},{\"label\":\"Paradigm shift\",\"value\":4},{\"label\":\"Streamlininess\",\"value\":10},{\"label\":\"Pivoting\",\"value\":12},{\"label\":\"Leverage\",\"value\":11}],\"id\":\"buzzwords\",\"updatedAt\":1693355228546}\n"
     ]
    },
    {
     "ename": "KeyboardInterrupt",
     "evalue": "",
     "output_type": "error",
     "traceback": [
      "\u001B[0;31m---------------------------------------------------------------------------\u001B[0m",
      "\u001B[0;31mKeyboardInterrupt\u001B[0m                         Traceback (most recent call last)",
      "\u001B[0;32m/var/folders/gx/1mr3nkhn62s1sxgdwspbnk4c0000gp/T/ipykernel_20993/899382351.py\u001B[0m in \u001B[0;36m<module>\u001B[0;34m\u001B[0m\n\u001B[1;32m      2\u001B[0m \u001B[0;34m\u001B[0m\u001B[0m\n\u001B[1;32m      3\u001B[0m \u001B[0mmessages\u001B[0m \u001B[0;34m=\u001B[0m \u001B[0mSSEClient\u001B[0m\u001B[0;34m(\u001B[0m\u001B[0;34m'https://classmario.fly.dev/events'\u001B[0m\u001B[0;34m)\u001B[0m\u001B[0;34m\u001B[0m\u001B[0;34m\u001B[0m\u001B[0m\n\u001B[0;32m----> 4\u001B[0;31m \u001B[0;32mfor\u001B[0m \u001B[0mmsg\u001B[0m \u001B[0;32min\u001B[0m \u001B[0mmessages\u001B[0m\u001B[0;34m:\u001B[0m\u001B[0;34m\u001B[0m\u001B[0;34m\u001B[0m\u001B[0m\n\u001B[0m\u001B[1;32m      5\u001B[0m     \u001B[0mprint\u001B[0m\u001B[0;34m(\u001B[0m\u001B[0mmsg\u001B[0m\u001B[0;34m)\u001B[0m\u001B[0;34m\u001B[0m\u001B[0;34m\u001B[0m\u001B[0m\n",
      "\u001B[0;32m~/code/edu/classroom-notice-board-rest-clinet/.venv/lib/python3.7/site-packages/sseclient.py\u001B[0m in \u001B[0;36m__next__\u001B[0;34m(self)\u001B[0m\n\u001B[1;32m     90\u001B[0m         \u001B[0;32mwhile\u001B[0m \u001B[0;32mnot\u001B[0m \u001B[0mself\u001B[0m\u001B[0;34m.\u001B[0m\u001B[0m_event_complete\u001B[0m\u001B[0;34m(\u001B[0m\u001B[0;34m)\u001B[0m\u001B[0;34m:\u001B[0m\u001B[0;34m\u001B[0m\u001B[0;34m\u001B[0m\u001B[0m\n\u001B[1;32m     91\u001B[0m             \u001B[0;32mtry\u001B[0m\u001B[0;34m:\u001B[0m\u001B[0;34m\u001B[0m\u001B[0;34m\u001B[0m\u001B[0m\n\u001B[0;32m---> 92\u001B[0;31m                 \u001B[0mnext_chunk\u001B[0m \u001B[0;34m=\u001B[0m \u001B[0mnext\u001B[0m\u001B[0;34m(\u001B[0m\u001B[0mself\u001B[0m\u001B[0;34m.\u001B[0m\u001B[0mresp_iterator\u001B[0m\u001B[0;34m)\u001B[0m\u001B[0;34m\u001B[0m\u001B[0;34m\u001B[0m\u001B[0m\n\u001B[0m\u001B[1;32m     93\u001B[0m                 \u001B[0;32mif\u001B[0m \u001B[0;32mnot\u001B[0m \u001B[0mnext_chunk\u001B[0m\u001B[0;34m:\u001B[0m\u001B[0;34m\u001B[0m\u001B[0;34m\u001B[0m\u001B[0m\n\u001B[1;32m     94\u001B[0m                     \u001B[0;32mraise\u001B[0m \u001B[0mEOFError\u001B[0m\u001B[0;34m(\u001B[0m\u001B[0;34m)\u001B[0m\u001B[0;34m\u001B[0m\u001B[0;34m\u001B[0m\u001B[0m\n",
      "\u001B[0;32m~/code/edu/classroom-notice-board-rest-clinet/.venv/lib/python3.7/site-packages/sseclient.py\u001B[0m in \u001B[0;36mgenerate\u001B[0;34m()\u001B[0m\n\u001B[1;32m     69\u001B[0m                         \u001B[0mhasattr\u001B[0m\u001B[0;34m(\u001B[0m\u001B[0mself\u001B[0m\u001B[0;34m.\u001B[0m\u001B[0mresp\u001B[0m\u001B[0;34m.\u001B[0m\u001B[0mraw\u001B[0m\u001B[0;34m.\u001B[0m\u001B[0m_fp\u001B[0m\u001B[0;34m,\u001B[0m \u001B[0;34m'fp'\u001B[0m\u001B[0;34m)\u001B[0m \u001B[0;32mand\u001B[0m\u001B[0;31m \u001B[0m\u001B[0;31m\\\u001B[0m\u001B[0;34m\u001B[0m\u001B[0;34m\u001B[0m\u001B[0m\n\u001B[1;32m     70\u001B[0m                         \u001B[0mhasattr\u001B[0m\u001B[0;34m(\u001B[0m\u001B[0mself\u001B[0m\u001B[0;34m.\u001B[0m\u001B[0mresp\u001B[0m\u001B[0;34m.\u001B[0m\u001B[0mraw\u001B[0m\u001B[0;34m.\u001B[0m\u001B[0m_fp\u001B[0m\u001B[0;34m.\u001B[0m\u001B[0mfp\u001B[0m\u001B[0;34m,\u001B[0m \u001B[0;34m'read1'\u001B[0m\u001B[0;34m)\u001B[0m\u001B[0;34m:\u001B[0m\u001B[0;34m\u001B[0m\u001B[0;34m\u001B[0m\u001B[0m\n\u001B[0;32m---> 71\u001B[0;31m                     \u001B[0mchunk\u001B[0m \u001B[0;34m=\u001B[0m \u001B[0mself\u001B[0m\u001B[0;34m.\u001B[0m\u001B[0mresp\u001B[0m\u001B[0;34m.\u001B[0m\u001B[0mraw\u001B[0m\u001B[0;34m.\u001B[0m\u001B[0m_fp\u001B[0m\u001B[0;34m.\u001B[0m\u001B[0mfp\u001B[0m\u001B[0;34m.\u001B[0m\u001B[0mread1\u001B[0m\u001B[0;34m(\u001B[0m\u001B[0mself\u001B[0m\u001B[0;34m.\u001B[0m\u001B[0mchunk_size\u001B[0m\u001B[0;34m)\u001B[0m\u001B[0;34m\u001B[0m\u001B[0;34m\u001B[0m\u001B[0m\n\u001B[0m\u001B[1;32m     72\u001B[0m                 \u001B[0;32melse\u001B[0m\u001B[0;34m:\u001B[0m\u001B[0;34m\u001B[0m\u001B[0;34m\u001B[0m\u001B[0m\n\u001B[1;32m     73\u001B[0m                     \u001B[0;31m# _fp is not available, this means that we cannot use short\u001B[0m\u001B[0;34m\u001B[0m\u001B[0;34m\u001B[0m\u001B[0;34m\u001B[0m\u001B[0m\n",
      "\u001B[0;32m~/.pyenv/versions/3.7.13/lib/python3.7/socket.py\u001B[0m in \u001B[0;36mreadinto\u001B[0;34m(self, b)\u001B[0m\n\u001B[1;32m    587\u001B[0m         \u001B[0;32mwhile\u001B[0m \u001B[0;32mTrue\u001B[0m\u001B[0;34m:\u001B[0m\u001B[0;34m\u001B[0m\u001B[0;34m\u001B[0m\u001B[0m\n\u001B[1;32m    588\u001B[0m             \u001B[0;32mtry\u001B[0m\u001B[0;34m:\u001B[0m\u001B[0;34m\u001B[0m\u001B[0;34m\u001B[0m\u001B[0m\n\u001B[0;32m--> 589\u001B[0;31m                 \u001B[0;32mreturn\u001B[0m \u001B[0mself\u001B[0m\u001B[0;34m.\u001B[0m\u001B[0m_sock\u001B[0m\u001B[0;34m.\u001B[0m\u001B[0mrecv_into\u001B[0m\u001B[0;34m(\u001B[0m\u001B[0mb\u001B[0m\u001B[0;34m)\u001B[0m\u001B[0;34m\u001B[0m\u001B[0;34m\u001B[0m\u001B[0m\n\u001B[0m\u001B[1;32m    590\u001B[0m             \u001B[0;32mexcept\u001B[0m \u001B[0mtimeout\u001B[0m\u001B[0;34m:\u001B[0m\u001B[0;34m\u001B[0m\u001B[0;34m\u001B[0m\u001B[0m\n\u001B[1;32m    591\u001B[0m                 \u001B[0mself\u001B[0m\u001B[0;34m.\u001B[0m\u001B[0m_timeout_occurred\u001B[0m \u001B[0;34m=\u001B[0m \u001B[0;32mTrue\u001B[0m\u001B[0;34m\u001B[0m\u001B[0;34m\u001B[0m\u001B[0m\n",
      "\u001B[0;32m~/.pyenv/versions/3.7.13/lib/python3.7/ssl.py\u001B[0m in \u001B[0;36mrecv_into\u001B[0;34m(self, buffer, nbytes, flags)\u001B[0m\n\u001B[1;32m   1069\u001B[0m                   \u001B[0;34m\"non-zero flags not allowed in calls to recv_into() on %s\"\u001B[0m \u001B[0;34m%\u001B[0m\u001B[0;34m\u001B[0m\u001B[0;34m\u001B[0m\u001B[0m\n\u001B[1;32m   1070\u001B[0m                   self.__class__)\n\u001B[0;32m-> 1071\u001B[0;31m             \u001B[0;32mreturn\u001B[0m \u001B[0mself\u001B[0m\u001B[0;34m.\u001B[0m\u001B[0mread\u001B[0m\u001B[0;34m(\u001B[0m\u001B[0mnbytes\u001B[0m\u001B[0;34m,\u001B[0m \u001B[0mbuffer\u001B[0m\u001B[0;34m)\u001B[0m\u001B[0;34m\u001B[0m\u001B[0;34m\u001B[0m\u001B[0m\n\u001B[0m\u001B[1;32m   1072\u001B[0m         \u001B[0;32melse\u001B[0m\u001B[0;34m:\u001B[0m\u001B[0;34m\u001B[0m\u001B[0;34m\u001B[0m\u001B[0m\n\u001B[1;32m   1073\u001B[0m             \u001B[0;32mreturn\u001B[0m \u001B[0msuper\u001B[0m\u001B[0;34m(\u001B[0m\u001B[0;34m)\u001B[0m\u001B[0;34m.\u001B[0m\u001B[0mrecv_into\u001B[0m\u001B[0;34m(\u001B[0m\u001B[0mbuffer\u001B[0m\u001B[0;34m,\u001B[0m \u001B[0mnbytes\u001B[0m\u001B[0;34m,\u001B[0m \u001B[0mflags\u001B[0m\u001B[0;34m)\u001B[0m\u001B[0;34m\u001B[0m\u001B[0;34m\u001B[0m\u001B[0m\n",
      "\u001B[0;32m~/.pyenv/versions/3.7.13/lib/python3.7/ssl.py\u001B[0m in \u001B[0;36mread\u001B[0;34m(self, len, buffer)\u001B[0m\n\u001B[1;32m    927\u001B[0m         \u001B[0;32mtry\u001B[0m\u001B[0;34m:\u001B[0m\u001B[0;34m\u001B[0m\u001B[0;34m\u001B[0m\u001B[0m\n\u001B[1;32m    928\u001B[0m             \u001B[0;32mif\u001B[0m \u001B[0mbuffer\u001B[0m \u001B[0;32mis\u001B[0m \u001B[0;32mnot\u001B[0m \u001B[0;32mNone\u001B[0m\u001B[0;34m:\u001B[0m\u001B[0;34m\u001B[0m\u001B[0;34m\u001B[0m\u001B[0m\n\u001B[0;32m--> 929\u001B[0;31m                 \u001B[0;32mreturn\u001B[0m \u001B[0mself\u001B[0m\u001B[0;34m.\u001B[0m\u001B[0m_sslobj\u001B[0m\u001B[0;34m.\u001B[0m\u001B[0mread\u001B[0m\u001B[0;34m(\u001B[0m\u001B[0mlen\u001B[0m\u001B[0;34m,\u001B[0m \u001B[0mbuffer\u001B[0m\u001B[0;34m)\u001B[0m\u001B[0;34m\u001B[0m\u001B[0;34m\u001B[0m\u001B[0m\n\u001B[0m\u001B[1;32m    930\u001B[0m             \u001B[0;32melse\u001B[0m\u001B[0;34m:\u001B[0m\u001B[0;34m\u001B[0m\u001B[0;34m\u001B[0m\u001B[0m\n\u001B[1;32m    931\u001B[0m                 \u001B[0;32mreturn\u001B[0m \u001B[0mself\u001B[0m\u001B[0;34m.\u001B[0m\u001B[0m_sslobj\u001B[0m\u001B[0;34m.\u001B[0m\u001B[0mread\u001B[0m\u001B[0;34m(\u001B[0m\u001B[0mlen\u001B[0m\u001B[0;34m)\u001B[0m\u001B[0;34m\u001B[0m\u001B[0;34m\u001B[0m\u001B[0m\n",
      "\u001B[0;31mKeyboardInterrupt\u001B[0m: "
     ]
    }
   ],
   "source": [
    "from sseclient import SSEClient\n",
    "\n",
    "messages = SSEClient('https://classmario.fly.dev/events')\n",
    "for msg in messages:\n",
    "    print(msg)"
   ],
   "metadata": {
    "collapsed": false,
    "ExecuteTime": {
     "end_time": "2023-08-30T00:27:09.844772Z",
     "start_time": "2023-08-30T00:26:28.770431Z"
    }
   },
   "id": "5ed4b9974ca8118f"
  },
  {
   "cell_type": "code",
   "execution_count": 24,
   "outputs": [
    {
     "ename": "AttributeError",
     "evalue": "'SSEClient' object has no attribute 'next'",
     "output_type": "error",
     "traceback": [
      "\u001B[0;31m---------------------------------------------------------------------------\u001B[0m",
      "\u001B[0;31mAttributeError\u001B[0m                            Traceback (most recent call last)",
      "\u001B[0;32m/var/folders/gx/1mr3nkhn62s1sxgdwspbnk4c0000gp/T/ipykernel_20993/481647078.py\u001B[0m in \u001B[0;36m<module>\u001B[0;34m\u001B[0m\n\u001B[1;32m      4\u001B[0m \u001B[0;34m\u001B[0m\u001B[0m\n\u001B[1;32m      5\u001B[0m \u001B[0;31m# 첫 번째 이벤트를 수신합니다.\u001B[0m\u001B[0;34m\u001B[0m\u001B[0;34m\u001B[0m\u001B[0;34m\u001B[0m\u001B[0m\n\u001B[0;32m----> 6\u001B[0;31m \u001B[0mfirst_event\u001B[0m \u001B[0;34m=\u001B[0m \u001B[0mmessages\u001B[0m\u001B[0;34m.\u001B[0m\u001B[0mnext\u001B[0m\u001B[0;34m(\u001B[0m\u001B[0;34m)\u001B[0m\u001B[0;34m\u001B[0m\u001B[0;34m\u001B[0m\u001B[0m\n\u001B[0m\u001B[1;32m      7\u001B[0m \u001B[0;34m\u001B[0m\u001B[0m\n\u001B[1;32m      8\u001B[0m \u001B[0;31m# 첫 번째 이벤트를 출력합니다.\u001B[0m\u001B[0;34m\u001B[0m\u001B[0;34m\u001B[0m\u001B[0;34m\u001B[0m\u001B[0m\n",
      "\u001B[0;31mAttributeError\u001B[0m: 'SSEClient' object has no attribute 'next'"
     ]
    }
   ],
   "source": [
    "from sseclient import SSEClient\n",
    "\n",
    "messages = SSEClient('https://classmario.fly.dev/events')\n",
    "\n",
    "# 첫 번째 이벤트를 수신합니다.\n",
    "first_event = messages.\n",
    "\n",
    "# 첫 번째 이벤트를 출력합니다.\n",
    "print(first_event)\n",
    "\n",
    "# 나머지 이벤트를 무시합니다.\n",
    "messages.close()"
   ],
   "metadata": {
    "collapsed": false,
    "ExecuteTime": {
     "end_time": "2023-08-30T00:29:27.480672Z",
     "start_time": "2023-08-30T00:29:27.133793Z"
    }
   },
   "id": "efedb36a3ee9dd3b"
  },
  {
   "cell_type": "code",
   "execution_count": 31,
   "outputs": [
    {
     "name": "stdout",
     "output_type": "stream",
     "text": [
      "hello\n"
     ]
    },
    {
     "ename": "AttributeError",
     "evalue": "'SSEClient' object has no attribute 'next'",
     "output_type": "error",
     "traceback": [
      "\u001B[0;31m---------------------------------------------------------------------------\u001B[0m",
      "\u001B[0;31mAttributeError\u001B[0m                            Traceback (most recent call last)",
      "\u001B[0;32m/var/folders/gx/1mr3nkhn62s1sxgdwspbnk4c0000gp/T/ipykernel_20993/3723164536.py\u001B[0m in \u001B[0;36m<module>\u001B[0;34m\u001B[0m\n\u001B[1;32m     15\u001B[0m \u001B[0;34m\u001B[0m\u001B[0m\n\u001B[1;32m     16\u001B[0m \u001B[0;34m\u001B[0m\u001B[0m\n\u001B[0;32m---> 17\u001B[0;31m \u001B[0mevent\u001B[0m \u001B[0;34m=\u001B[0m \u001B[0mget_first_event_from_url\u001B[0m\u001B[0;34m(\u001B[0m\u001B[0;34m\"https://classmario.fly.dev/events\"\u001B[0m\u001B[0;34m)\u001B[0m\u001B[0;34m\u001B[0m\u001B[0;34m\u001B[0m\u001B[0m\n\u001B[0m\u001B[1;32m     18\u001B[0m \u001B[0mprint\u001B[0m\u001B[0;34m(\u001B[0m\u001B[0mevent\u001B[0m\u001B[0;34m)\u001B[0m\u001B[0;34m\u001B[0m\u001B[0;34m\u001B[0m\u001B[0m\n",
      "\u001B[0;32m/var/folders/gx/1mr3nkhn62s1sxgdwspbnk4c0000gp/T/ipykernel_20993/3723164536.py\u001B[0m in \u001B[0;36mget_first_event_from_url\u001B[0;34m(url)\u001B[0m\n\u001B[1;32m      5\u001B[0m     \u001B[0;32mtry\u001B[0m\u001B[0;34m:\u001B[0m\u001B[0;34m\u001B[0m\u001B[0;34m\u001B[0m\u001B[0m\n\u001B[1;32m      6\u001B[0m         \u001B[0;31m# 첫 번째 이벤트를 수신합니다.\u001B[0m\u001B[0;34m\u001B[0m\u001B[0;34m\u001B[0m\u001B[0;34m\u001B[0m\u001B[0m\n\u001B[0;32m----> 7\u001B[0;31m         \u001B[0mevent\u001B[0m \u001B[0;34m=\u001B[0m \u001B[0mmessages\u001B[0m\u001B[0;34m.\u001B[0m\u001B[0mnext\u001B[0m\u001B[0;34m(\u001B[0m\u001B[0;34m)\u001B[0m\u001B[0;34m\u001B[0m\u001B[0;34m\u001B[0m\u001B[0m\n\u001B[0m\u001B[1;32m      8\u001B[0m \u001B[0;34m\u001B[0m\u001B[0m\n\u001B[1;32m      9\u001B[0m         \u001B[0;31m# 첫 번째 이벤트를 반환합니다.\u001B[0m\u001B[0;34m\u001B[0m\u001B[0;34m\u001B[0m\u001B[0;34m\u001B[0m\u001B[0m\n",
      "\u001B[0;31mAttributeError\u001B[0m: 'SSEClient' object has no attribute 'next'"
     ]
    }
   ],
   "source": [
    "import sseclient\n",
    "\n",
    "def get_first_event_from_url(url):\n",
    "    messages = sseclient.SSEClient(url)\n",
    "    try:\n",
    "        # 첫 번째 이벤트를 수신합니다.\n",
    "        event = messages.next()\n",
    "\n",
    "        # 첫 번째 이벤트를 반환합니다.\n",
    "        return event\n",
    "    finally:\n",
    "        # 연결을 닫습니다.\n",
    "        # messages.close()\n",
    "        print(\"hello\")\n",
    "\n",
    "\n",
    "event = get_first_event_from_url(\"https://classmario.fly.dev/events\")\n",
    "print(event)"
   ],
   "metadata": {
    "collapsed": false,
    "ExecuteTime": {
     "end_time": "2023-08-30T00:34:02.740787Z",
     "start_time": "2023-08-30T00:34:02.367399Z"
    }
   },
   "id": "55199bb0888f62f0"
  },
  {
   "cell_type": "code",
   "execution_count": 34,
   "outputs": [
    {
     "name": "stdout",
     "output_type": "stream",
     "text": [
      "0:data: {\"current\":72,\"last\":30,\"id\":\"valuation\",\"updatedAt\":1693355890742}\n",
      "1:data: {\"current\":106752,\"last\":12625,\"id\":\"karma\",\"updatedAt\":1693355890742}\n",
      "2:data: {\"value\":4,\"id\":\"synergy\",\"updatedAt\":1693355890742}\n",
      "3:data: {\"points\":[{\"x\":86451,\"y\":42},{\"x\":86452,\"y\":19},{\"x\":86453,\"y\":45},{\"x\":86454,\"y\":29},{\"x\":86455,\"y\":36},{\"x\":86456,\"y\":33},{\"x\":86457,\"y\":43},{\"x\":86458,\"y\":35},{\"x\":86459,\"y\":42},{\"x\":86460,\"y\":9}],\"id\":\"convergence\",\"updatedAt\":1693355890742}\n",
      "4:data: {\"items\":[{\"label\":\"Synergy\",\"value\":3},{\"label\":\"Enterprise\",\"value\":26},{\"label\":\"Exit strategy\",\"value\":22},{\"label\":\"Turn-key\",\"value\":25},{\"label\":\"Web 2.0\",\"value\":13},{\"label\":\"Paradigm shift\",\"value\":11},{\"label\":\"Streamlininess\",\"value\":14},{\"label\":\"Pivoting\",\"value\":16},{\"label\":\"Leverage\",\"value\":10}],\"id\":\"buzzwords\",\"updatedAt\":1693355890742}\n",
      "5:data: {\"text\":\"Stay hungry, stay foolish\",\"id\":\"poster\",\"updatedAt\":1693206390692}\n",
      "6:data: {\"items\":[{\"label\":\"item1\",\"value\":\"Test1\"},{\"label\":\"item2\",\"value\":\"Test2\"}],\"id\":\"oneTeam\",\"updatedAt\":1693199613555}\n",
      "7:data: {\"current\":75,\"last\":72,\"id\":\"valuation\",\"updatedAt\":1693355892546}\n",
      "8:data: {\"current\":694,\"last\":106752,\"id\":\"karma\",\"updatedAt\":1693355892546}\n",
      "9:data: {\"value\":23,\"id\":\"synergy\",\"updatedAt\":1693355892546}\n"
     ]
    }
   ],
   "source": [
    "import requests\n",
    "\n",
    "url = 'https://classmario.fly.dev/events'\n",
    "\n",
    "response = requests.get(url, stream=True)\n",
    "\n",
    "count = 0\n",
    "for line in response.iter_lines():\n",
    "    if line:\n",
    "        event = line.decode()\n",
    "        print(f'{count}:{event}')\n",
    "        count += 1\n",
    "        if count == 10:\n",
    "            break"
   ],
   "metadata": {
    "collapsed": false,
    "ExecuteTime": {
     "end_time": "2023-08-30T00:38:12.631436Z",
     "start_time": "2023-08-30T00:38:10.700846Z"
    }
   },
   "id": "45f4cd4c885aaef"
  },
  {
   "cell_type": "code",
   "execution_count": 39,
   "outputs": [
    {
     "name": "stdout",
     "output_type": "stream",
     "text": [
      "{'items': [{'label': 'item1', 'value': 'Test1'}, {'label': 'item2', 'value': 'Test2'}], 'id': 'oneTeam', 'updatedAt': 1693199613555}\n"
     ]
    }
   ],
   "source": [
    "import requests\n",
    "\n",
    "url = 'https://classmario.fly.dev/events'\n",
    "\n",
    "response = requests.get(url, stream=True)\n",
    "\n",
    "for line in response.iter_lines():\n",
    "    if line:\n",
    "        event = line.decode().replace(\"data: \", \"\")\n",
    "        data = json.loads(event)\n",
    "        if data[\"id\"] == \"oneTeam\":\n",
    "            print(data)\n",
    "            break\n"
   ],
   "metadata": {
    "collapsed": false,
    "ExecuteTime": {
     "end_time": "2023-08-30T00:46:33.845002Z",
     "start_time": "2023-08-30T00:46:33.513167Z"
    }
   },
   "id": "e82fe86b0a90ad60"
  },
  {
   "cell_type": "code",
   "execution_count": 40,
   "outputs": [
    {
     "name": "stdout",
     "output_type": "stream",
     "text": [
      "{'items': [{'label': 'item1', 'value': 'Test1'}, {'label': 'item2', 'value': 'Test2'}], 'id': 'oneTeam', 'updatedAt': 1693199613555}\n"
     ]
    }
   ],
   "source": [
    "import requests\n",
    "import json\n",
    "\n",
    "url = 'https://classmario.fly.dev/events'\n",
    "\n",
    "response = requests.get(url, stream=True)\n",
    "\n",
    "for line in response.iter_lines():\n",
    "    if line:\n",
    "        event = line.decode().replace(\"data: \", \"\")\n",
    "        data = json.loads(event)\n",
    "        if data[\"id\"] == \"oneTeam\":\n",
    "            print(data)\n",
    "            break"
   ],
   "metadata": {
    "collapsed": false,
    "ExecuteTime": {
     "end_time": "2023-08-30T00:49:43.885207Z",
     "start_time": "2023-08-30T00:49:43.518767Z"
    }
   },
   "id": "42cccdb06fe7e477"
  },
  {
   "cell_type": "code",
   "execution_count": 41,
   "outputs": [],
   "source": [
    "import requests\n",
    "import json\n",
    "\n",
    "def get_one_team_event(id: str, url='https://classmario.fly.dev/events') -> str:\n",
    "    response = requests.get(url, stream=True)\n",
    "\n",
    "    for line in response.iter_lines():\n",
    "        if line:\n",
    "            event = line.decode().replace(\"data: \", \"\")\n",
    "            data = json.loads(event)\n",
    "            if data[\"id\"] == id:\n",
    "                return data"
   ],
   "metadata": {
    "collapsed": false,
    "ExecuteTime": {
     "end_time": "2023-08-30T00:49:47.175079Z",
     "start_time": "2023-08-30T00:49:47.166784Z"
    }
   },
   "id": "530385b88170340c"
  },
  {
   "cell_type": "code",
   "execution_count": 63,
   "outputs": [],
   "source": [
    "import requests\n",
    "import json\n",
    "\n",
    "def get_first_value_by_event(id: str, max_count=10, url='https://classmario.fly.dev/events') -> dict:\n",
    "    \"\"\"\n",
    "    스트리밍 이벤트 중에서 특정 \"id\" 값의 첫번째 값을 가져옵니다.\n",
    "\n",
    "    :param id: \"id\": \"poster\"인 이벤트의 아이디 값\n",
    "    :param max_count: 이벤트 스트림에서 검색할 최대 횟수 (default: 10)\n",
    "    :param url: 이벤트를 스트림으로 받아올 주소 (default: 'https://classmario.fly.dev/events')\n",
    "    :return: \"id\": \"oneTeam\"인 이벤트의 값을 JSON 형태로 반환\n",
    "    \"\"\"\n",
    "    response = requests.get(url, stream=True)\n",
    "    \n",
    "    count = 0\n",
    "    searched_ids = []\n",
    "    for line in response.iter_lines():\n",
    "        if line:\n",
    "            count = count + 1\n",
    "            if count >= max_count:\n",
    "                return {\n",
    "                    \"error\": f\"couldn't find the event. check max_count or id. found IDs:{sorted(set(searched_ids))}\"\n",
    "                }\n",
    "            event = line.decode().replace(\"data: \", \"\")\n",
    "            data = json.loads(event)\n",
    "            searched_ids.append(data[\"id\"])\n",
    "            if data[\"id\"] == id:\n",
    "                return data\n",
    "            "
   ],
   "metadata": {
    "collapsed": false,
    "ExecuteTime": {
     "end_time": "2023-08-30T01:30:48.321915Z",
     "start_time": "2023-08-30T01:30:48.318467Z"
    }
   },
   "id": "db170c62b46fd410"
  },
  {
   "cell_type": "code",
   "execution_count": 64,
   "outputs": [
    {
     "data": {
      "text/plain": "{'error': \"couldn't find the event. check max_count or id. found IDs:['buzzwords', 'convergence', 'karma', 'oneTeam', 'poster', 'synergy', 'valuation']\"}"
     },
     "execution_count": 64,
     "metadata": {},
     "output_type": "execute_result"
    }
   ],
   "source": [
    "get_first_value_by_event('poster1')"
   ],
   "metadata": {
    "collapsed": false,
    "ExecuteTime": {
     "end_time": "2023-08-30T01:30:50.831245Z",
     "start_time": "2023-08-30T01:30:49.498381Z"
    }
   },
   "id": "2d03aabc2a6cf320"
  },
  {
   "cell_type": "code",
   "execution_count": 65,
   "outputs": [
    {
     "data": {
      "text/plain": "{'text': 'Stay hungry, stay foolish',\n 'id': 'poster',\n 'updatedAt': 1693206390692}"
     },
     "execution_count": 65,
     "metadata": {},
     "output_type": "execute_result"
    }
   ],
   "source": [
    "get_first_value_by_event('poster')"
   ],
   "metadata": {
    "collapsed": false,
    "ExecuteTime": {
     "end_time": "2023-08-30T01:31:02.989855Z",
     "start_time": "2023-08-30T01:31:02.652186Z"
    }
   },
   "id": "8b0850c36370914"
  },
  {
   "cell_type": "code",
   "execution_count": 66,
   "outputs": [
    {
     "data": {
      "text/plain": "{'items': [{'label': 'item1', 'value': 'Test1'},\n  {'label': 'item2', 'value': 'Test2'}],\n 'id': 'oneTeam',\n 'updatedAt': 1693199613555}"
     },
     "execution_count": 66,
     "metadata": {},
     "output_type": "execute_result"
    }
   ],
   "source": [
    "get_first_value_by_event('oneTeam')"
   ],
   "metadata": {
    "collapsed": false,
    "ExecuteTime": {
     "end_time": "2023-08-30T01:31:05.448655Z",
     "start_time": "2023-08-30T01:31:05.082372Z"
    }
   },
   "id": "348f2d7996f3dbc6"
  },
  {
   "cell_type": "code",
   "execution_count": 58,
   "outputs": [
    {
     "data": {
      "text/plain": "{'error': \"I couldn't find the event. Please check the max_count or the id value.\"}"
     },
     "execution_count": 58,
     "metadata": {},
     "output_type": "execute_result"
    }
   ],
   "source": [
    "get_first_value_by_event('twoTeam')"
   ],
   "metadata": {
    "collapsed": false,
    "ExecuteTime": {
     "end_time": "2023-08-30T01:11:38.615088Z",
     "start_time": "2023-08-30T01:11:36.747494Z"
    }
   },
   "id": "5ac8bbc95d8a160a"
  },
  {
   "cell_type": "code",
   "execution_count": null,
   "outputs": [],
   "source": [],
   "metadata": {
    "collapsed": false
   },
   "id": "14495be677f2a7ec"
  }
 ],
 "metadata": {
  "kernelspec": {
   "display_name": "Python 3",
   "language": "python",
   "name": "python3"
  },
  "language_info": {
   "codemirror_mode": {
    "name": "ipython",
    "version": 2
   },
   "file_extension": ".py",
   "mimetype": "text/x-python",
   "name": "python",
   "nbconvert_exporter": "python",
   "pygments_lexer": "ipython2",
   "version": "2.7.6"
  }
 },
 "nbformat": 4,
 "nbformat_minor": 5
}
