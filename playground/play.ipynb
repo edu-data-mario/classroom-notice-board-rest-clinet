{
 "cells": [
  {
   "cell_type": "code",
   "execution_count": 67,
   "id": "initial_id",
   "metadata": {
    "collapsed": true,
    "ExecuteTime": {
     "end_time": "2023-08-30T05:11:48.360876Z",
     "start_time": "2023-08-30T05:11:48.359982Z"
    }
   },
   "outputs": [],
   "source": [
    "data = {\n",
    "  \"error\": \"couldn't find the event. check max_count or id. found IDs:['buzzwords', 'convergence', 'karma', 'oneTeam', 'poster', 'synergy', 'valuation']\"\n",
    "}"
   ]
  },
  {
   "cell_type": "code",
   "execution_count": 68,
   "outputs": [],
   "source": [
    "ids = data[\"error\"].split(\"', '\")"
   ],
   "metadata": {
    "collapsed": false,
    "ExecuteTime": {
     "end_time": "2023-08-30T05:11:59.881976Z",
     "start_time": "2023-08-30T05:11:59.880003Z"
    }
   },
   "id": "262cd2de1a1411e0"
  },
  {
   "cell_type": "code",
   "execution_count": 69,
   "outputs": [
    {
     "data": {
      "text/plain": "[\"couldn't find the event. check max_count or id. found IDs:['buzzwords\",\n 'convergence',\n 'karma',\n 'oneTeam',\n 'poster',\n 'synergy',\n \"valuation']\"]"
     },
     "execution_count": 69,
     "metadata": {},
     "output_type": "execute_result"
    }
   ],
   "source": [
    "ids"
   ],
   "metadata": {
    "collapsed": false,
    "ExecuteTime": {
     "end_time": "2023-08-30T05:12:03.045735Z",
     "start_time": "2023-08-30T05:12:03.043023Z"
    }
   },
   "id": "6b5176b27ff85dee"
  },
  {
   "cell_type": "code",
   "execution_count": 71,
   "outputs": [
    {
     "data": {
      "text/plain": "\"couldn't find the event. check max_count or id. found IDs:['buzzwords', 'convergence', 'karma', 'oneTeam', 'poster', 'synergy', 'valuation']\""
     },
     "execution_count": 71,
     "metadata": {},
     "output_type": "execute_result"
    }
   ],
   "source": [
    "a = data[\"error\"]\n",
    "a"
   ],
   "metadata": {
    "collapsed": false,
    "ExecuteTime": {
     "end_time": "2023-08-30T05:13:56.142830Z",
     "start_time": "2023-08-30T05:13:56.138724Z"
    }
   },
   "id": "308db90884c0afb8"
  },
  {
   "cell_type": "code",
   "execution_count": 73,
   "outputs": [
    {
     "data": {
      "text/plain": "\"['buzzwords', 'convergence', 'karma', 'oneTeam', 'poster', 'synergy', 'valuation']\""
     },
     "execution_count": 73,
     "metadata": {},
     "output_type": "execute_result"
    }
   ],
   "source": [
    "b = a.split(':')[1]\n",
    "b"
   ],
   "metadata": {
    "collapsed": false,
    "ExecuteTime": {
     "end_time": "2023-08-30T05:14:21.946133Z",
     "start_time": "2023-08-30T05:14:21.940981Z"
    }
   },
   "id": "a9d074f37e0fc127"
  },
  {
   "cell_type": "code",
   "execution_count": 74,
   "outputs": [
    {
     "data": {
      "text/plain": "['buzzwords',\n 'convergence',\n 'karma',\n 'oneTeam',\n 'poster',\n 'synergy',\n 'valuation']"
     },
     "execution_count": 74,
     "metadata": {},
     "output_type": "execute_result"
    }
   ],
   "source": [
    "\n",
    "import ast\n",
    "\n",
    "s = \"['buzzwords', 'convergence', 'karma', 'oneTeam', 'poster', 'synergy', 'valuation']\"\n",
    "a = ast.literal_eval(s)\n",
    "a"
   ],
   "metadata": {
    "collapsed": false,
    "ExecuteTime": {
     "end_time": "2023-08-30T05:16:52.914658Z",
     "start_time": "2023-08-30T05:16:52.907749Z"
    }
   },
   "id": "dd22427dc41101a1"
  },
  {
   "cell_type": "markdown",
   "source": [
    "# 결론"
   ],
   "metadata": {
    "collapsed": false
   },
   "id": "3d098e925088f55b"
  },
  {
   "cell_type": "code",
   "execution_count": 84,
   "outputs": [
    {
     "name": "stdout",
     "output_type": "stream",
     "text": [
      "['buzzwords', 'convergence', 'karma', 'oneTeam', 'poster', 'synergy', 'valuation']\n"
     ]
    }
   ],
   "source": [
    "import ast\n",
    "\n",
    "data = {\n",
    "  \"error\": \"couldn't find the event. check max_count or id. found IDs:['buzzwords', 'convergence', 'karma', 'oneTeam', 'poster', 'synergy', 'valuation']\"\n",
    "}\n",
    "\n",
    "# 문자열을 리스트로 변환\n",
    "ids = data[\"error\"].split(\":\")[1]\n",
    "\n",
    "# 리스트로 변환\n",
    "a = ast.literal_eval(ids)\n",
    "\n",
    "# 출력\n",
    "print(a)"
   ],
   "metadata": {
    "collapsed": false,
    "ExecuteTime": {
     "end_time": "2023-08-30T05:23:37.979628Z",
     "start_time": "2023-08-30T05:23:37.976322Z"
    }
   },
   "id": "f6412541597d5ab2"
  },
  {
   "cell_type": "code",
   "execution_count": 86,
   "outputs": [
    {
     "name": "stdout",
     "output_type": "stream",
     "text": [
      "buzzwords\n",
      "convergence\n",
      "karma\n",
      "oneTeam\n",
      "poster\n",
      "synergy\n",
      "valuation\n"
     ]
    }
   ],
   "source": [
    "for word in a:\n",
    "  # 인자를 출력\n",
    "  print(word)"
   ],
   "metadata": {
    "collapsed": false,
    "ExecuteTime": {
     "end_time": "2023-08-30T05:29:11.420931Z",
     "start_time": "2023-08-30T05:29:11.414455Z"
    }
   },
   "id": "3a3e40f47bc8716a"
  },
  {
   "cell_type": "code",
   "execution_count": 89,
   "outputs": [
    {
     "data": {
      "text/plain": "7"
     },
     "execution_count": 89,
     "metadata": {},
     "output_type": "execute_result"
    }
   ],
   "source": [
    "len(a)"
   ],
   "metadata": {
    "collapsed": false,
    "ExecuteTime": {
     "end_time": "2023-08-30T05:29:35.535654Z",
     "start_time": "2023-08-30T05:29:35.529416Z"
    }
   },
   "id": "e40e8e5cc30dac56"
  },
  {
   "cell_type": "code",
   "execution_count": null,
   "outputs": [],
   "source": [],
   "metadata": {
    "collapsed": false
   },
   "id": "15924afdcceed9cb"
  }
 ],
 "metadata": {
  "kernelspec": {
   "display_name": "Python 3",
   "language": "python",
   "name": "python3"
  },
  "language_info": {
   "codemirror_mode": {
    "name": "ipython",
    "version": 2
   },
   "file_extension": ".py",
   "mimetype": "text/x-python",
   "name": "python",
   "nbconvert_exporter": "python",
   "pygments_lexer": "ipython2",
   "version": "2.7.6"
  }
 },
 "nbformat": 4,
 "nbformat_minor": 5
}
