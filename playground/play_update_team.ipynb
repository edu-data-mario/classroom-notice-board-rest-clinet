{
 "cells": [
  {
   "cell_type": "code",
   "execution_count": 11,
   "id": "initial_id",
   "metadata": {
    "collapsed": true,
    "ExecuteTime": {
     "end_time": "2023-08-30T06:23:25.773797Z",
     "start_time": "2023-08-30T06:23:25.351864Z"
    }
   },
   "outputs": [],
   "source": [
    "from classroom_notice_board_rest_clinet.restclient import get_first_value_by_event\n",
    "\n",
    "widgets_id = \"oneTeam\"\n",
    "data = get_first_value_by_event(widgets_id)"
   ]
  },
  {
   "cell_type": "code",
   "execution_count": 12,
   "outputs": [
    {
     "data": {
      "text/plain": "{'items': [{'label': 'item1', 'value': 'Test1'},\n  {'label': 'item2', 'value': 'Test2'}],\n 'id': 'oneTeam',\n 'updatedAt': 1693199613555}"
     },
     "execution_count": 12,
     "metadata": {},
     "output_type": "execute_result"
    }
   ],
   "source": [
    "data"
   ],
   "metadata": {
    "collapsed": false,
    "ExecuteTime": {
     "end_time": "2023-08-30T06:23:27.185381Z",
     "start_time": "2023-08-30T06:23:27.179973Z"
    }
   },
   "id": "5a57c883fd210484"
  },
  {
   "cell_type": "code",
   "execution_count": 13,
   "outputs": [
    {
     "data": {
      "text/plain": "[{'label': 'item1', 'value': 'Test1'}, {'label': 'item2', 'value': 'Test2'}]"
     },
     "execution_count": 13,
     "metadata": {},
     "output_type": "execute_result"
    }
   ],
   "source": [
    "items = data['items']\n",
    "items"
   ],
   "metadata": {
    "collapsed": false,
    "ExecuteTime": {
     "end_time": "2023-08-30T06:23:28.801569Z",
     "start_time": "2023-08-30T06:23:28.793849Z"
    }
   },
   "id": "b1291136e617f0fd"
  },
  {
   "cell_type": "code",
   "execution_count": 14,
   "outputs": [
    {
     "data": {
      "text/plain": "list"
     },
     "execution_count": 14,
     "metadata": {},
     "output_type": "execute_result"
    }
   ],
   "source": [
    "type(items)"
   ],
   "metadata": {
    "collapsed": false,
    "ExecuteTime": {
     "end_time": "2023-08-30T06:23:29.351216Z",
     "start_time": "2023-08-30T06:23:29.343302Z"
    }
   },
   "id": "9b59dfcdfc2b9ea2"
  },
  {
   "cell_type": "code",
   "execution_count": 15,
   "outputs": [],
   "source": [
    "add_msg = {'label': 'addLabel', 'value': 'AddValue'}"
   ],
   "metadata": {
    "collapsed": false,
    "ExecuteTime": {
     "end_time": "2023-08-30T06:23:29.815531Z",
     "start_time": "2023-08-30T06:23:29.810247Z"
    }
   },
   "id": "eb0af74d0ba6d232"
  },
  {
   "cell_type": "code",
   "execution_count": 16,
   "outputs": [],
   "source": [
    "items.append(add_msg)"
   ],
   "metadata": {
    "collapsed": false,
    "ExecuteTime": {
     "end_time": "2023-08-30T06:23:30.218450Z",
     "start_time": "2023-08-30T06:23:30.214118Z"
    }
   },
   "id": "b0fe738581f7b7b0"
  },
  {
   "cell_type": "code",
   "execution_count": 17,
   "outputs": [
    {
     "data": {
      "text/plain": "[{'label': 'item1', 'value': 'Test1'},\n {'label': 'item2', 'value': 'Test2'},\n {'label': 'addLabel', 'value': 'AddValue'}]"
     },
     "execution_count": 17,
     "metadata": {},
     "output_type": "execute_result"
    }
   ],
   "source": [
    "items"
   ],
   "metadata": {
    "collapsed": false,
    "ExecuteTime": {
     "end_time": "2023-08-30T06:23:30.979608Z",
     "start_time": "2023-08-30T06:23:30.972695Z"
    }
   },
   "id": "d08d30bfcb0ae213"
  },
  {
   "cell_type": "code",
   "execution_count": 19,
   "outputs": [],
   "source": [
    "import requests\n",
    "\n",
    "headers = {\n",
    "        'Content-Type': 'application/json',\n",
    "    }\n",
    "\n",
    "json_data = {\n",
    "    'auth_token': 'LIVING_FOR_TODAY',\n",
    "    'items': items\n",
    "}\n",
    "response = requests.post(f'https://classmario.fly.dev/widgets/{widgets_id}',\n",
    "                         headers=headers,\n",
    "                         json=json_data)"
   ],
   "metadata": {
    "collapsed": false,
    "ExecuteTime": {
     "end_time": "2023-08-30T06:24:11.764110Z",
     "start_time": "2023-08-30T06:24:11.423735Z"
    }
   },
   "id": "1ff705eec6b48a5e"
  },
  {
   "cell_type": "code",
   "execution_count": null,
   "outputs": [],
   "source": [],
   "metadata": {
    "collapsed": false
   },
   "id": "2d4405810d15202d"
  }
 ],
 "metadata": {
  "kernelspec": {
   "display_name": "Python 3",
   "language": "python",
   "name": "python3"
  },
  "language_info": {
   "codemirror_mode": {
    "name": "ipython",
    "version": 2
   },
   "file_extension": ".py",
   "mimetype": "text/x-python",
   "name": "python",
   "nbconvert_exporter": "python",
   "pygments_lexer": "ipython2",
   "version": "2.7.6"
  }
 },
 "nbformat": 4,
 "nbformat_minor": 5
}
